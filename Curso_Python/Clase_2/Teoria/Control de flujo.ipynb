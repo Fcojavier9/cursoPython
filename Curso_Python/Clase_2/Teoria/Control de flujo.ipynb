{
 "cells": [
  {
   "cell_type": "markdown",
   "id": "52426421-30fa-46b4-b363-8c7b54312a38",
   "metadata": {},
   "source": [
    "# Control de flujo - Bucles\n",
    "\n",
    "Los bucles son **bloques que iteran (repiten instrucciones)** con respecto a una variable que puede *recorrerse (iterable)*.\n",
    "\n",
    "Hay *2 formas* de definir bucles, mediante la keyword **FOR** y mediante la keyword **WHILE**"
   ]
  },
  {
   "cell_type": "markdown",
   "id": "a5383a56-2af9-4095-9033-4638a609d204",
   "metadata": {},
   "source": [
    "## Bucles *while*\n",
    "\n",
    "Un bucle `while` (hasta) ejecutará el bloque *hasta que* se le den instrucciones de salir del bucle.\n",
    "\n",
    "La sintaxis es:\n",
    "\n",
    "```\n",
    "while <condicion>:\n",
    "  <bloque>\n",
    "```\n",
    "\n",
    "```python\n",
    "while on_off is True:\n",
    "  print(\"Estoy encendido\")\n",
    "```"
   ]
  },
  {
   "cell_type": "code",
   "execution_count": 1,
   "id": "55e2e547-7209-448b-9ed3-826797a3e95d",
   "metadata": {},
   "outputs": [
    {
     "name": "stdout",
     "output_type": "stream",
     "text": [
      "1\n",
      "2\n",
      "3\n",
      "4\n",
      "5\n",
      "6\n",
      "7\n",
      "8\n",
      "9\n",
      "10\n",
      "11\n"
     ]
    }
   ],
   "source": [
    "numero = 0\n",
    "\n",
    "while numero <= 10:\n",
    "  numero = numero + 1\n",
    "  print(numero)"
   ]
  },
  {
   "cell_type": "markdown",
   "id": "eff85682-bda6-4819-afb2-fd73fc1f2284",
   "metadata": {},
   "source": [
    "Los bucles `while` *no son muy usados*, ya que un bucle `for` permite cubrir la mayoria de los casos y su iteracion es limitada (no requiere de una condición de parada), ademas, no son tan eficientes.\n",
    "\n",
    "Estos bucles se suelen usar cuando el numero de iteraciones no es bien conocido, o bien se requiere de una iteracion desconocida."
   ]
  },
  {
   "cell_type": "markdown",
   "id": "92f0f92c-97b6-41ce-98b3-cff4af71b105",
   "metadata": {},
   "source": [
    "## Bucles *for*\n",
    "\n",
    "Un bucle `for` (para) ejecutará el bloque *para unos elementos* definidos en el mismo objeto a iterar (iterable)\n",
    "\n",
    "La sintaxis es:\n",
    "\n",
    "```\n",
    "for <elemento> in <iterable>:\n",
    "  <bloque>\n",
    "```\n",
    "\n",
    "```python\n",
    "for on_off in todos_los_on_off:\n",
    "  print(on_off)\n",
    "```"
   ]
  },
  {
   "cell_type": "code",
   "execution_count": 2,
   "id": "b3bcac15-655f-4c6e-b42c-14650a2962b3",
   "metadata": {},
   "outputs": [
    {
     "name": "stdout",
     "output_type": "stream",
     "text": [
      "1\n",
      "2\n",
      "3\n",
      "4\n",
      "5\n",
      "6\n",
      "7\n",
      "8\n",
      "9\n",
      "10\n"
     ]
    }
   ],
   "source": [
    "numeros = [1, 2, 3, 4, 5, 6, 7, 8, 9, 10]\n",
    "\n",
    "for numero in numeros:\n",
    "  print(numero)"
   ]
  },
  {
   "cell_type": "markdown",
   "id": "b44463a8-2f04-443a-b61e-c50cae60e916",
   "metadata": {},
   "source": [
    "Los bucles pueden *anidarse* entre ellos, y cada nivel es una dimensión."
   ]
  },
  {
   "cell_type": "code",
   "execution_count": 3,
   "id": "53396acb-466f-4895-ae5b-00d2ef913651",
   "metadata": {},
   "outputs": [
    {
     "name": "stdout",
     "output_type": "stream",
     "text": [
      "Estas son las notas: [3, 6, 5, 2]\n",
      "Y esta es la media del alumno: 4.0\n",
      "Estas son las notas: [7, 6, 7.6, 4.5]\n",
      "Y esta es la media del alumno: 6.275\n",
      "Estas son las notas: [3, 10, 9.8, 7.1]\n",
      "Y esta es la media del alumno: 7.475\n",
      "La media de las medias de cada alumno es: [4.0, 6.275, 7.475] ---> 4.4375\n"
     ]
    }
   ],
   "source": [
    "notas_alumnos = ([3, 6, 5, 2], [7, 6, 7.6, 4.5], [3, 10, 9.8, 7.1])\n",
    "\n",
    "media_notas_cada_alumno = []  # Aqui vamos a guardar las notas medias de cada alumno\n",
    "media_total_notas = 0  # Aqui se va a guardar la media de las medias\n",
    "\n",
    "for notas in notas_alumnos:\n",
    "  print(f\"Estas son las notas: {notas}\")\n",
    "  media_de_alumno = 0  # Y ahora se va a hacer un bucle para esas notas\n",
    "\n",
    "  for notas_de_alumno in notas:\n",
    "    media_de_alumno += notas_de_alumno / 4\n",
    "\n",
    "  print(f\"Y esta es la media del alumno: {media_de_alumno}\")\n",
    "  media_notas_cada_alumno.append(media_de_alumno)  # Guardamos esa media y se continua iterando\n",
    "\n",
    "for media_notas in media_notas_cada_alumno:  # Por ultimo, se calcula la media de las medias\n",
    "  media_total_notas += media_notas / 4\n",
    "\n",
    "print(f\"La media de las medias de cada alumno es: {media_notas_cada_alumno} ---> {media_total_notas}\")"
   ]
  },
  {
   "cell_type": "markdown",
   "id": "4c629f0b-7293-47b6-a7ce-48012f3c39b6",
   "metadata": {},
   "source": [
    "## Ejercicio\n",
    "\n",
    "Cambiar todos los strings almacenados para que no tengan mayusculas\n",
    "\n",
    "*Esto se suele utilizar mucho en desarrollo para estandarizar cosas como usuarios, tecnologias, direcciones, ...*"
   ]
  },
  {
   "cell_type": "code",
   "execution_count": 11,
   "id": "07f7e9b7-f302-47a9-a4c1-df48832bd851",
   "metadata": {},
   "outputs": [
    {
     "name": "stdout",
     "output_type": "stream",
     "text": [
      "['john', 'doe', 'starlette', 'test']\n"
     ]
    }
   ],
   "source": [
    "variable = [\"john\", \"DOE\", \"sTaRlEtTe\", \"TesT\"]\n",
    "lista_vacia = []\n",
    "for nombre in variable:\n",
    "    lista_vacia.append(nombre.lower())\n",
    "print(lista_vacia)"
   ]
  },
  {
   "cell_type": "markdown",
   "id": "30ddf6e7-654f-479f-8b91-24d5dc91520a",
   "metadata": {},
   "source": [
    "# Control de flujo - Condicionales\n",
    "\n",
    "Las condiciones son **bloques que filtran (dividen en opciones el flujo de código)** con respecto a una condición que puede *demostrarse (evalua a True o False)*.\n",
    "\n",
    "La forma de definir un bloque condicional es con la keyword **IF**, y pueden extenderse con las keywords **ELIF** y **ELSE**"
   ]
  },
  {
   "cell_type": "code",
   "execution_count": 13,
   "id": "aa6e84ed-e542-4ba1-a4ef-7ccc7a2c412f",
   "metadata": {},
   "outputs": [],
   "source": [
    "animal = \"gato\"\n",
    "\n",
    "if animal == \"perro\":\n",
    "  print(\"guau guau!\")"
   ]
  },
  {
   "cell_type": "markdown",
   "id": "54cbd086-cae5-454d-9b5f-2a2bebb33227",
   "metadata": {},
   "source": [
    "## Bloques *if/elif/else*\n",
    "\n",
    "Los bloques condicionales empiezan con `if` (si), que definen una condicion. Si no se cumple, se pueden definir otras opciones con `elif` (si no, entonces si). Y por último, se puede definir una condicion general para el caso en que no se cumpla ningún `if` o `elif` con `else` (si no), aqui no se define una condición porque se cumplirá siempre que no se cumplan las anteriores.\n",
    "\n",
    "La sintaxis es:\n",
    "\n",
    "```\n",
    "if <condicion>:\n",
    "  <bloque>\n",
    "elif <condicion>:\n",
    "  <bloque>\n",
    "...\n",
    "else:\n",
    "  <bloque>\n",
    "```\n",
    "\n",
    "```python\n",
    "if edad_persona >= 18:\n",
    "  print(\"Esta persona es mayor de edad\")\n",
    "elif edad_persona < 18 and edad_persona > 0:\n",
    "  print(\"Esta persona es menor de edad\")\n",
    "else:\n",
    "  print(\"Hay un error con la edad de esta persona\")\n",
    "```"
   ]
  },
  {
   "cell_type": "code",
   "execution_count": 17,
   "id": "f85fe047-bb9c-45fe-a345-5806647d3b41",
   "metadata": {},
   "outputs": [
    {
     "name": "stdout",
     "output_type": "stream",
     "text": [
      "Este semaforo es muy raro, el color no es correcto\n"
     ]
    }
   ],
   "source": [
    "color_semaforo = \"azul\"\n",
    "\n",
    "if color_semaforo == \"verde\":\n",
    "  print(\"El semaforo esta verde, puedes pasar\")\n",
    "elif color_semaforo == \"amarillo\":\n",
    "  print(\"El semaforo esta amarillo, acelera!\")\n",
    "elif color_semaforo == \"rojo\":\n",
    "  print(\"El semaforo esta rojo, debes parar\")\n",
    "else:\n",
    "  print(\"Este semaforo es muy raro, el color no es correcto\")"
   ]
  },
  {
   "cell_type": "markdown",
   "id": "c914981f-997a-4328-80f2-e32bb1774d70",
   "metadata": {},
   "source": [
    "### Condicionales anidados\n",
    "\n",
    "Los condicionales tambien se puede anidar y/o combinar con bucles, permitiendo un control del flujo del programa"
   ]
  },
  {
   "cell_type": "code",
   "execution_count": 20,
   "id": "385cd13b-606d-4520-a8cb-9b6970418808",
   "metadata": {},
   "outputs": [
    {
     "name": "stdout",
     "output_type": "stream",
     "text": [
      "No tienes trabajo!\n"
     ]
    }
   ],
   "source": [
    "salario = 0\n",
    "\n",
    "if salario > 0:  # Si se tiene un salario...\n",
    "  if salario < 50000:  # ... y el salario es normalito\n",
    "    print(\"Tienes un salario normalito\")\n",
    "  else:\n",
    "    print(\"Tienes un buen salario!\")  # ... y el salario NO es normalito\n",
    "else:\n",
    "  print(\"No tienes trabajo!\")  # No hay un salario"
   ]
  },
  {
   "cell_type": "markdown",
   "id": "ad52290d",
   "metadata": {},
   "source": [
    "### Condicionales ternarios\n",
    "\n",
    "Los condicionales ternarios son formas especiales de if/else que tienen la forma\n",
    "\n",
    "```python\n",
    "<resultado verdadero> if <condicion> else <resultado falso>\n",
    "```"
   ]
  },
  {
   "cell_type": "code",
   "execution_count": 22,
   "id": "399ddbe3",
   "metadata": {},
   "outputs": [
    {
     "name": "stdout",
     "output_type": "stream",
     "text": [
      "Dime tu edad:  10\n"
     ]
    },
    {
     "name": "stdout",
     "output_type": "stream",
     "text": [
      "Eres un niño\n"
     ]
    }
   ],
   "source": [
    "edad = int(input(\"Dime tu edad: \"))\n",
    "respuesta = \"Eres mayor de edad\" if edad >= 18 else \"Eres un niño\"\n",
    "print(respuesta)"
   ]
  },
  {
   "cell_type": "markdown",
   "id": "ad0b1754-7b08-4115-adc8-0b149b19136e",
   "metadata": {},
   "source": [
    "# Ejercicios de refuerzo"
   ]
  },
  {
   "cell_type": "markdown",
   "id": "167d850c-926c-4859-9d7e-ab7afcd6f4f6",
   "metadata": {},
   "source": [
    "## Validador de edad\n",
    "\n",
    "Un diccionario que representa una persona, validar si es mayor de edad\n",
    "\n",
    "*Casi toda la informacion que se manda y recibe de la web es un diccionario, es importante saber validarla*"
   ]
  },
  {
   "cell_type": "code",
   "execution_count": 17,
   "id": "41a35133-b9a1-457d-8476-c63a82e381bf",
   "metadata": {},
   "outputs": [
    {
     "name": "stdout",
     "output_type": "stream",
     "text": [
      "Es mayor de edad\n",
      "{'astronomia': 40, 'fotografia': 25, 'cocina': 66}\n",
      "Es un niño\n",
      "['astronomia', 'fotografia', 'cocina']\n",
      "Es un niño\n",
      "['astronomia', 'fotografia', 'cocina']\n"
     ]
    }
   ],
   "source": [
    "personas = {\n",
    "    \"persona_1\": {\n",
    "        \"nombre\": \"Joaquin\",\n",
    "        \"apellido\": \"Hernandez\",\n",
    "        \"edad\": 30,\n",
    "        \"trabajo\": \"ingeniero\",\n",
    "        \"hobbies\": {\"astronomia\": 40,\n",
    "                          \"fotografia\":25,\n",
    "                          \"cocina\": 66}\n",
    "    },\n",
    "    \"persona_2\": {\n",
    "        \"nombre\": \"Joaquin\",\n",
    "        \"apellido\": \"Hernandez\",\n",
    "        \"edad\": 12,\n",
    "        \"trabajo\": \"ingeniero\",\n",
    "        \"hobbies\": [\"astronomia\", \"fotografia\", \"cocina\"]\n",
    "    },\n",
    "    \"persona_3\": {\n",
    "        \"nombre\": \"Joaquin\",\n",
    "        \"apellido\": \"Hernandez\",\n",
    "        \"edad\": 8,\n",
    "        \"trabajo\": \"ingeniero\",\n",
    "        \"hobbies\": [\"astronomia\", \"fotografia\", \"cocina\"]\n",
    "    },\n",
    "}\n",
    "for persona in personas.values():\n",
    "    print(\"Es mayor de edad\") if persona[\"edad\"] >= 18 else print(\"Es un niño\")\n",
    "    print(persona[\"hobbies\"])\n"
   ]
  },
  {
   "cell_type": "markdown",
   "id": "39b79495-ec58-4033-b068-04da131823a8",
   "metadata": {},
   "source": [
    "## ¿Divisible por 3 o 5?\n",
    "\n",
    "Comprobar si un numero es divisible por 3 o 5"
   ]
  },
  {
   "cell_type": "code",
   "execution_count": 31,
   "id": "58820879-aea8-4387-9af3-d4edec77a296",
   "metadata": {},
   "outputs": [
    {
     "name": "stdout",
     "output_type": "stream",
     "text": [
      "es divisible por 3 y 5\n"
     ]
    }
   ],
   "source": [
    "numero = 120\n",
    "\n",
    "if numero % 3 == 0 and numero % 5 == 0:\n",
    "    print(\"es divisible por 3 y 5\")\n",
    "elif numero % 3 == 0:\n",
    "    print(\"solo es divisible por 3\")\n",
    "elif numero % 5 == 0:\n",
    "    print(\"solo es divisible por 5\")\n",
    "else:\n",
    "    print(\"no es divisible ni por 3 ni por 5\")"
   ]
  },
  {
   "cell_type": "markdown",
   "id": "6626b974-5f54-4652-87a9-f9370b383a2c",
   "metadata": {},
   "source": [
    "## Ejercicios de los alumnos"
   ]
  },
  {
   "cell_type": "code",
   "execution_count": 42,
   "id": "68113c76-0034-45da-87f2-9af512113b06",
   "metadata": {},
   "outputs": [
    {
     "name": "stdout",
     "output_type": "stream",
     "text": [
      "Introduce un número:  15\n"
     ]
    },
    {
     "name": "stdout",
     "output_type": "stream",
     "text": [
      "El número 15 es impar.\n"
     ]
    }
   ],
   "source": [
    "# Comprobar si un numero es par o impar\n",
    "\n",
    "\n",
    "\n",
    "# Solicitar al usuario que ingrese un número\n",
    "numero = int(input(\"Introduce un número: \"))\n",
    "print(f\"El número {numero} es {\"par\" if numero % 2 == 0 else \"impar\"}.\")"
   ]
  },
  {
   "cell_type": "code",
   "execution_count": 44,
   "id": "056159d4-27a0-43fe-86c8-31c7b82375b1",
   "metadata": {},
   "outputs": [
    {
     "name": "stdout",
     "output_type": "stream",
     "text": [
      "8 x 1 = 8\n",
      "8 x 2 = 16\n",
      "8 x 3 = 24\n",
      "8 x 4 = 32\n",
      "8 x 5 = 40\n",
      "8 x 6 = 48\n",
      "8 x 7 = 56\n",
      "8 x 8 = 64\n",
      "8 x 9 = 72\n",
      "8 x 10 = 80\n"
     ]
    }
   ],
   "source": [
    "# Crear tablas de multiplicar automaticas\n",
    "\n",
    "numero_tabla = 8\n",
    "\n",
    "for numero in range(1, 11):\n",
    "    resultado = numero_tabla * numero\n",
    "    print(f\"{numero_tabla} x {numero} = {resultado}\")"
   ]
  },
  {
   "cell_type": "code",
   "execution_count": 55,
   "id": "1d254778-6c5a-4fae-88dc-a8e06e762527",
   "metadata": {},
   "outputs": [
    {
     "name": "stdout",
     "output_type": "stream",
     "text": [
      "{1: 'Juan', 2: 'Ana', 3: 'Raquel', 4: 'Antonio', 5: 'Belen'}\n"
     ]
    }
   ],
   "source": [
    "# Juntar dos secuencias en un diccionario\n",
    "\n",
    "claves = [1, 2, 3, 4, 5]\n",
    "valores = [\"Juan\", \"Ana\", \"Raquel\", \"Antonio\", \"Belen\"]\n",
    "\n",
    "mi_diccionario = dict(zip(claves, valores))\n",
    "print(mi_diccionario)"
   ]
  },
  {
   "cell_type": "code",
   "execution_count": 1,
   "id": "28518a9b-fc3a-4131-8651-3698027e6ae8",
   "metadata": {},
   "outputs": [
    {
     "name": "stdout",
     "output_type": "stream",
     "text": [
      "Mis claves son: ('nombre', 'Joaquin')\n",
      "Y mis valores son: ('edad', 30)\n"
     ]
    }
   ],
   "source": [
    "# Tener un diccionario y crear dos tuplas (una con claves y otra con valores del diccionario)\n",
    "\n",
    "diccionario = {\"nombre\": \"Joaquin\", \"edad\": 30}\n",
    "claves, valores = diccionario.items()\n",
    "print(f\"Mis claves son: {claves}\\nY mis valores son: {valores}\")"
   ]
  }
 ],
 "metadata": {
  "kernelspec": {
   "display_name": "Python 3 (ipykernel)",
   "language": "python",
   "name": "python3"
  },
  "language_info": {
   "codemirror_mode": {
    "name": "ipython",
    "version": 3
   },
   "file_extension": ".py",
   "mimetype": "text/x-python",
   "name": "python",
   "nbconvert_exporter": "python",
   "pygments_lexer": "ipython3",
   "version": "3.12.1"
  }
 },
 "nbformat": 4,
 "nbformat_minor": 5
}
