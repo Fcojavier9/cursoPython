{
 "cells": [
  {
   "cell_type": "markdown",
   "id": "a1421bd9-6fdb-4913-9381-3a188b9b3614",
   "metadata": {},
   "source": [
    "# I/O básico y un Hola mundo!\n",
    "\n",
    "El primer programa que se hace, por excelencia, es un Hola mundo!\n",
    "Este programa, simplemente, representará la frase \"Hola mundo!\" y es usada hoy en día para ver que la configuración de un sistema funciona correctamente.\n",
    "\n",
    "## Representar por pantalla (output)\n",
    "\n",
    "La función `print(<variable>)` muestra por pantalla una variable"
   ]
  },
  {
   "cell_type": "code",
   "execution_count": 2,
   "id": "fdf4f374-803c-4a40-905e-eaf84c452a7b",
   "metadata": {},
   "outputs": [
    {
     "name": "stdout",
     "output_type": "stream",
     "text": [
      "Hoy estamos repasando la clase de este ultimo jueves\n"
     ]
    }
   ],
   "source": [
    "print(\"Hoy estamos repasando la clase de este ultimo jueves\")"
   ]
  },
  {
   "cell_type": "markdown",
   "id": "570f7604-2d66-434e-b7d7-3527eb2b9f60",
   "metadata": {},
   "source": [
    "## Pedir por pantalla (input)\n",
    "\n",
    "La función `input(<string>)` pide por pantalla, y captura la información como un string"
   ]
  },
  {
   "cell_type": "code",
   "execution_count": 3,
   "id": "c239d572-495d-4186-b01b-eaef3f9f917c",
   "metadata": {},
   "outputs": [
    {
     "name": "stdin",
     "output_type": "stream",
     "text": [
      "Ahora pon tu edad:  18\n"
     ]
    },
    {
     "name": "stdout",
     "output_type": "stream",
     "text": [
      "18\n"
     ]
    }
   ],
   "source": [
    "print(\n",
    "    input(\"Ahora pon tu edad: \")\n",
    ")"
   ]
  },
  {
   "cell_type": "markdown",
   "id": "7f3b05bf-86f5-4cf4-861e-2db0fe6b0ead",
   "metadata": {},
   "source": [
    "# Variables\n",
    "\n",
    "Las **variables** son *información que se almacena en memoria RAM*, y se **asignan** con el operador `=`"
   ]
  },
  {
   "cell_type": "code",
   "execution_count": 6,
   "id": "65956c41-70bb-4c6d-9ef1-4946c64c1bec",
   "metadata": {},
   "outputs": [
    {
     "name": "stdout",
     "output_type": "stream",
     "text": [
      "pato\n"
     ]
    }
   ],
   "source": [
    "animal = \"pato\"\n",
    "print(animal)"
   ]
  },
  {
   "cell_type": "markdown",
   "id": "7aa2cea9-1835-4089-99c1-1517edf09abf",
   "metadata": {},
   "source": [
    "Las variables son los *bloques fundamentales de todo código*, y hay normas para nombrarlas (por ejemplo, empezar por una letra y no tener espacios).\n",
    "Se consideran buenas prácticas ser lo mas explicativos posibles con los nombres de variable, y sustituir los espacios en blanco por barras bajas _ "
   ]
  },
  {
   "cell_type": "code",
   "execution_count": 8,
   "id": "9c32ba02-d15e-42ff-8c8b-040cb3babd88",
   "metadata": {},
   "outputs": [
    {
     "name": "stdin",
     "output_type": "stream",
     "text": [
      "Ahora dime tu edad:  30\n"
     ]
    },
    {
     "name": "stdout",
     "output_type": "stream",
     "text": [
      "Tu edad es 30 años\n"
     ]
    }
   ],
   "source": [
    "nombre = input(\"Ahora dime tu edad: \")\n",
    "print(f\"Tu edad es {nombre} años\")"
   ]
  },
  {
   "cell_type": "markdown",
   "id": "45b07566-5b50-485f-9fdd-7c77b1aaea16",
   "metadata": {},
   "source": [
    "Las variables tienen un *valor*, que es lo que almacenan, y una *referencia*, que es una etiqueta que identifica ese lugar en memoria\n",
    "\n",
    "<img src=\"https://miro.medium.com/v2/resize:fit:1400/1*t1Jjp3moTD1KCA75Kd_PSA.png\" width=\"600\" height=\"600\" />"
   ]
  },
  {
   "cell_type": "code",
   "execution_count": 29,
   "id": "0c3176e3-5210-4c58-ab8f-0708f46e3fa9",
   "metadata": {},
   "outputs": [
    {
     "name": "stdout",
     "output_type": "stream",
     "text": [
      "(1, 2, 3) (1, 2, 3)\n",
      "True True 2701641155712 2701641155712\n",
      "True False 2701641155712 2701641045056\n",
      "Mi variable 1 es: (1, 2, 3)\n",
      "Mi variable 2 es: (1, 2, 3)\n"
     ]
    }
   ],
   "source": [
    "variable_2 = variable_1 = (1, 2, 3) # Referencia 2 apunta a referencia 1 (o 2 -> 1 )\n",
    "print(variable_1, variable_2)\n",
    "print(variable_1 == variable_2, variable_1 is variable_2,\n",
    "      id(variable_1), id(variable_2))\n",
    "variable_2 = (1, 2, 3)\n",
    "print(variable_1 == variable_2, variable_1 is variable_2,\n",
    "      id(variable_1), id(variable_2))\n",
    "print(\"Mi variable 1 es:\", variable_1)\n",
    "print(\"Mi variable 2 es:\", variable_2)"
   ]
  },
  {
   "cell_type": "markdown",
   "id": "011d2e2f-ed38-4097-9cde-466e42276bda",
   "metadata": {},
   "source": [
    "En Python 3 tenemos **tipos de datos** mutables e inmutables. En general, los tipos de datos básicos son inmutables por defecto (como un string),\n",
    "y los tipos de datos complejos son mutables. Sin embargo, es importante recordar que **la inmutabilidad se aplica a la referencia y no al valor**."
   ]
  },
  {
   "cell_type": "markdown",
   "id": "69de35eb-d561-441b-a98f-fa6e966f51a1",
   "metadata": {},
   "source": [
    "# Tipos básicos: Números y cadenas (strings)\n",
    "\n",
    "## Números\n",
    "\n",
    "Son un tipo de dato que representan *cantidades* cuantificables. Python es un lenguaje preparado para análisis y matemáticas, por lo que incluye una *gran riqueza de tipos de datos numéricos*.\n",
    "\n",
    "### Números enteros (int)\n",
    "\n",
    "Son números *sin decimal*, para usos sencillos, como contabilizar la edad de una persona.\n",
    "\n",
    "## Números de coma flotante (float)\n",
    "\n",
    "Son números *con decimal flotante*, para cuando sea necesario utilizar cantidades reales, como el salario percibido por una persona en un mes.\n",
    "\n",
    "## Números binarios o hexadecimales (bin y hex)\n",
    "\n",
    "Son números preparados para convertir de sistema decimal a sistema binario o hexadecimal, muy útiles para trabajar a bajo nivel con el ordenador.\n",
    "\n",
    "## Otros números (complex, Decimal, ...)\n",
    "\n",
    "Hay otros números, más complicados, preparados para su uso técnico en el lenguaje."
   ]
  },
  {
   "cell_type": "code",
   "execution_count": 38,
   "id": "4c69f9b1-4338-4270-a04f-d4bf97fddf02",
   "metadata": {},
   "outputs": [
    {
     "name": "stdout",
     "output_type": "stream",
     "text": [
      "24 <class 'int'> 24.0 <class 'float'>\n"
     ]
    }
   ],
   "source": [
    "edad = 24\n",
    "salario = 165.55\n",
    "edad_en_binario = bin(edad)\n",
    "\n",
    "print(edad, type(edad), float(edad), type(float(edad)))"
   ]
  },
  {
   "cell_type": "markdown",
   "id": "466ad976-c126-4360-9012-8ca97ca4d474",
   "metadata": {},
   "source": [
    "## Operadores\n",
    "\n",
    "Los operadores son **palabras clave** especiales que permiten realizar ciertas operaciones entre tipos de datos. La mayoria son bastante conocidas:\n",
    "\n",
    "```python\n",
    "suma_numero = 10 + 3  # + realiza sumas\n",
    "resta_numero = 10 - 3  # + realiza resta\n",
    "producto_numero = 10 * 3  # + realiza multiplicaciones\n",
    "division_numero = 10 / 3  # + realiza divisiones\n",
    "division_entera_numero = 10 // 3  # + realiza la division entera (sin resto)\n",
    "modulo_numero = 10 % 3  # + realiza modulo (muestra solo el resto)\n",
    "```"
   ]
  },
  {
   "cell_type": "markdown",
   "id": "498db6ae-d9d1-4264-846d-4974db61507b",
   "metadata": {},
   "source": [
    "## Operadores lógicos y tipo de dato bool\n",
    "\n",
    "Los **booleanos** (bool) representan datos `True` (Verdadero) o `False` (Falso), y suelen aparecer al realizar operaciones lógicas\n",
    "\n",
    "```python\n",
    "numero_1 = 10\n",
    "numero_2 = 1000\n",
    "numero_1 < numero_2  # True (menor que)\n",
    "numero_1 <= numero_2  # True (menor o igual que)\n",
    "numero_1 > numero_2  # False (mayor que)\n",
    "numero_1 >= numero_2  # False (mayor o igual que)\n",
    "numero_1 != numero_2  # True (no igual que)\n",
    "numero_1 == numero_2  # False (igual que)\n",
    "```\n",
    "\n",
    "Hay una segunda forma de realizar las igualdades `==` y `!=`, que es con las palabras clave `is` y `is not`."
   ]
  },
  {
   "cell_type": "markdown",
   "id": "3572b4a5-3f20-4475-96c8-b610a016467f",
   "metadata": {},
   "source": [
    "## Tipo de dato \"sin dato\" (None)\n",
    "\n",
    "Python incluye un tipo de dato *vacio* como `None`"
   ]
  },
  {
   "cell_type": "markdown",
   "id": "b730b8d1-4039-4d0b-beae-65ee6e7d84a3",
   "metadata": {},
   "source": [
    "## Strings (cadenas de texto)\n",
    "\n",
    "Los strings (`str`) representan datos de texto, ya sea un único caracter o textos completos. Python prepara este texto para facilitar su uso, de forma que\n",
    "es facil manejar la codificación, interpolación, conversiones, ...\n",
    "\n",
    "Además, la **función type(<variable>)** muestra el *tipo* de una variable. La conversión de un tipo de variable a otra se utiliza con el tipo usado como función."
   ]
  },
  {
   "cell_type": "code",
   "execution_count": 42,
   "id": "17702a91-11b2-45e2-b991-7f0a21c3d59a",
   "metadata": {},
   "outputs": [
    {
     "name": "stdin",
     "output_type": "stream",
     "text": [
      "Dime tu edad:  10\n"
     ]
    },
    {
     "name": "stdout",
     "output_type": "stream",
     "text": [
      "10 <class 'str'>\n",
      "10 <class 'int'>\n",
      "2.0\n"
     ]
    }
   ],
   "source": [
    "edad = input(\"Dime tu edad: \")\n",
    "print(edad, type(edad))  # Muestra la variable y su tipo\n",
    "edad = int(edad)  # Convierte a int\n",
    "print(edad, type(edad))\n",
    "edad = edad + 10\n",
    "edad /= 10\n",
    "print(edad)"
   ]
  },
  {
   "cell_type": "code",
   "execution_count": 14,
   "id": "e14d0349-d40e-4710-9405-e3d95cdccca5",
   "metadata": {},
   "outputs": [
    {
     "name": "stdin",
     "output_type": "stream",
     "text": [
      "Dame un numero --->  10\n",
      "Dame un segundo numero --->  20\n"
     ]
    },
    {
     "name": "stdout",
     "output_type": "stream",
     "text": [
      "30\n"
     ]
    }
   ],
   "source": [
    "# Ejercicio: Hacer una suma de dos números por pantalla\n",
    "\n"
   ]
  },
  {
   "cell_type": "markdown",
   "id": "b3bd32f6-0dfb-4815-b7cb-18a6f606a11d",
   "metadata": {},
   "source": [
    "## Métodos de strings\n",
    "\n",
    "Los **métodos** son funciones especiales que pertenecen a objetos concretos, es decir, a un tipo de dato en este caso. Los strings tienen métodos que permiten realizar ciertas operaciones de forma sencilla. Aqui se adjuntan como referencia:\n",
    "\n",
    ".capitalize() ---> Transforma a texto minuscula con la primera letra mayuscula\n",
    "\n",
    ".upper() ---> Transforma texto a mayuscula\n",
    "\n",
    ".lower() ---> Transforma texto a minuscula\n",
    "\n",
    ".title() ---> Transforma texto a minuscula con primera letra de cada palabra en mayuscula\n",
    "\n",
    ".swapcase() ---> Cambia mayuscula a minuscula y viceversa\n",
    "\n",
    ".startswith(string) ---> Comprueba si el texto empieza con un string\n",
    "\n",
    ".endswith(string) ---> Comprueba si el texto termina con un string\n",
    "\n",
    ".replace(string, string, int) ---> Sustituye un string por otro string, un numero de veces (por defecto, todas)\n",
    "\n",
    ".count(string) ---> Cuenta el numero de veces que aparece un string\n",
    "\n",
    ".find(string) ---> Muestra la posicion de un string\n",
    "\n",
    ".isdigit(), .isnumeric(), .isascii(), isdecimal(), ... ---> Comprueba si es un digito, decimal, ascii, alfanumerico, mayuscula, minuscula, ...\n",
    "\n",
    ".strip(string), .rstrip(string), .lstrip(string) ---> Elimina caracteres de un string (y se puede ver de donde eliminar, por defecto espacio en blanco)\n",
    "\n",
    ".split(string), .rsplit(string), .lsplit(string) ---> Divide texto de acuerdo a un string (por defecto divide por espacios en blanco)\n",
    "\n",
    ".join(iterable) ---> Transforma un iterable en un string, con el propio string como punto de unión\n",
    "\n",
    ".zfill(int) ---> Rellena con ceros el texto"
   ]
  },
  {
   "cell_type": "code",
   "execution_count": 3,
   "id": "fc2e5e9a-9c1f-498e-af2e-ebc476330f27",
   "metadata": {},
   "outputs": [
    {
     "name": "stdout",
     "output_type": "stream",
     "text": [
      "joaquin hernandez martinez\n"
     ]
    }
   ],
   "source": [
    "nombre = \"joaquin hernandez martinez\"\n",
    "print(nombre)"
   ]
  },
  {
   "cell_type": "markdown",
   "id": "8d490290",
   "metadata": {},
   "source": [
    "## F-Strings\n",
    "\n",
    "Los f-strings son strings con formato. Tienen la forma `f\"<contenido>{<interpolacion>}\"` y permiten interpolar (sustituir) valores entre las llaves especificadas (cualquier valor o expresión, son muy poderosos)."
   ]
  },
  {
   "cell_type": "code",
   "execution_count": 4,
   "id": "d42c210e",
   "metadata": {},
   "outputs": [
    {
     "name": "stdout",
     "output_type": "stream",
     "text": [
      "Hola! Mi nombre es Joaquin Hernandez Martinez\n"
     ]
    }
   ],
   "source": [
    "saludo = f\"Hola! Mi nombre es {nombre.title()}\"\n",
    "print(saludo)"
   ]
  },
  {
   "cell_type": "markdown",
   "id": "9f9109df",
   "metadata": {},
   "source": [
    "## Caracteres especiales y caracteres de escape\n",
    "\n",
    "ALgunos caracteres, como `\\n` y `\\t`, son especiales en el sentido que representan un salto de linea o una tabulación. En general, utilizar `\\` **escapa** ese caracter, haciendo que no se tenga en cuenta como caracter (ejemplo: se puede escapar `\\` en windows haciendo `\\\\`, la primera para indicar que se escapa, y la segunda para indicar el caracter, esto a veces es importante manejando archivos y directorios)"
   ]
  },
  {
   "cell_type": "code",
   "execution_count": 7,
   "id": "4275dd76",
   "metadata": {},
   "outputs": [
    {
     "name": "stdout",
     "output_type": "stream",
     "text": [
      "Esto es una linea\n",
      "Y esto es otra linea distinta\n",
      "\tY esta ultima linea esta tabulada\n"
     ]
    }
   ],
   "source": [
    "print(\"Esto es una linea/nY esto es otra linea distinta\\n\\tY esta ultima linea esta tabulada\")"
   ]
  },
  {
   "cell_type": "markdown",
   "id": "e013d2fc-4391-4736-9527-b257b517184c",
   "metadata": {},
   "source": [
    "# Tipos complejos: Secuencias y mapeos\n",
    "\n",
    "Los tipos complejos son **conjuntos de tipos básicos**, muy útiles en el día a día, ya que agrupan valores de forma conveniente. Pueden **anidarse**.\n",
    "\n",
    "## Listas\n",
    "\n",
    "Son **mutables** y **ordenados**, y son grupos ordenados de valores que se ordenan por posición.\n",
    "\n",
    "```python\n",
    "lista = [1, 2, 3]\n",
    "```\n",
    "\n",
    "## Tuplas\n",
    "\n",
    "Son **inmutables** y **ordenados**, es decir, muy parecidos a las listas. Sin embargo, no se pueden cambiar facilmente, y no incluyen muchos métodos.\n",
    "\n",
    "```python\n",
    "tupla = (1, 2, 3)\n",
    "```\n",
    "\n",
    "## Set\n",
    "\n",
    "Son **mutables** y **no ordenados**. Además, **no guardan elementos repetidos**, y son *elementos matemáticos* que representan conjuntos.\n",
    "\n",
    "```python\n",
    "mi_set = {1, 2, 3}\n",
    "```\n",
    "\n",
    "## Diccionarios\n",
    "\n",
    "Son **mutables** y **ordenados desde Python 3.8**,pero al contrario que las listas, no son accedidos por *posición*, sino por **clave**.\n",
    "\n",
    "```python\n",
    "diccionario = {\"clave\": \"valor\", \"clave_2\": \"valor\"}  # Las claves son únicas entre sí\n",
    "```"
   ]
  },
  {
   "cell_type": "code",
   "execution_count": 26,
   "id": "fb32f8fc-109d-41b9-ade7-4d1d8544e3c2",
   "metadata": {},
   "outputs": [
    {
     "name": "stdout",
     "output_type": "stream",
     "text": [
      "2\n",
      "18\n"
     ]
    }
   ],
   "source": [
    "mi_lista = [1, 2, 3]\n",
    "mi_diccionario = {\n",
    "    \"joaquin\": 30,\n",
    "    \"ana\": 18\n",
    "}"
   ]
  },
  {
   "cell_type": "markdown",
   "id": "94c279ed-166e-4d33-b7d2-b9b67202ce98",
   "metadata": {},
   "source": [
    "# Otros detalles\n",
    "\n",
    "Los objetos inmutables son especiales, ya que tienen un **hash** (que se puede ver con la funcion `hash(<variable>)`). **Listas, sets y diccionarios no son hasheables, e incluirlas en uno de estos tipos de datos rompe el hash**"
   ]
  },
  {
   "cell_type": "code",
   "execution_count": 30,
   "id": "c27696e4-9408-46cd-8c21-e62ca50a4f9c",
   "metadata": {},
   "outputs": [
    {
     "name": "stdout",
     "output_type": "stream",
     "text": [
      "6421877358175766506\n"
     ]
    }
   ],
   "source": [
    "tupla = (\"clave\", 1, 4, 865, \"nombre\")\n",
    "print(hash(tupla))"
   ]
  },
  {
   "cell_type": "markdown",
   "id": "ca56925c-6a77-499c-8779-40aa3b0fd704",
   "metadata": {},
   "source": [
    "Además, se puede ver el lugar en memoria de una variable con la función `id(<variable>)`."
   ]
  },
  {
   "cell_type": "code",
   "execution_count": null,
   "id": "06dd6cad-b149-4dee-bf69-d403fc7920b3",
   "metadata": {},
   "outputs": [],
   "source": [
    "numero = 10\n",
    "print(id(numero))"
   ]
  },
  {
   "cell_type": "markdown",
   "id": "03e22d02-dace-4e60-9ec3-77da8ddeecdc",
   "metadata": {},
   "source": [
    "## Asignaciones aumentadas\n",
    "\n",
    "Las asignaciones aumentadas son acortaciones útiles que permiten *volver a definir una variable con respecto a la misma variable, haciendo una operación*\n",
    "\n",
    "```python\n",
    "numero = 10\n",
    "# Voy a sumar 10 y guardar el resultado de 20 en la misma variable\n",
    "numero = numero + 10\n",
    "```\n",
    "\n",
    "Para la suma `+` se tiene la asignacion aumentada `+=`\n",
    "\n",
    "```python\n",
    "numero = 10\n",
    "# Voy a sumar 10 y guardar el resultado de 20 en la misma variable\n",
    "numero += 10\n",
    "```\n",
    "\n",
    "**Esto se aplica a otros operadores, más exóticos, como el | en los diccionarios**"
   ]
  },
  {
   "cell_type": "code",
   "execution_count": null,
   "id": "e2af5709-4924-4c43-b2b1-a253592e1383",
   "metadata": {},
   "outputs": [],
   "source": [
    "numero = 100\n",
    "numero -= 80\n",
    "print(numero)\n",
    "numero /= 4\n",
    "print(numero)\n",
    "numero *= 2\n",
    "print(numero)"
   ]
  },
  {
   "cell_type": "markdown",
   "id": "dd28de96-1625-4d9f-bc51-bdb151a96a8b",
   "metadata": {},
   "source": [
    "## Otras funciones interesantes\n",
    "\n",
    "abs(numero) ---> Valor absoluto de un número\n",
    "\n",
    "max(secuencia) ---> Valor máximo de una secuencia\n",
    "\n",
    "min(secuencia) ---> Valor mínimo de una secuencia\n",
    "\n",
    "pow(int, int) ---> Eleva un int a un segundo int\n",
    "\n",
    "round(numero, int) ---> Redondea un número a un número int de decimales fijos (por defecto coma flotante)\n",
    "\n",
    "len(iterable) ---> Tamaño de un iterable\n",
    "\n",
    "range(int, int, int) ---> Crea saltos desde un inicio (por defecto 0) hasta un final, con un salto (opcional)"
   ]
  },
  {
   "cell_type": "code",
   "execution_count": 32,
   "id": "dfaf473f-35c1-4357-a700-da10910a358d",
   "metadata": {},
   "outputs": [
    {
     "name": "stdout",
     "output_type": "stream",
     "text": [
      "9\n"
     ]
    }
   ],
   "source": [
    "# Encontrar el máximo de una lista de números\n",
    "\n",
    "lista = [1, 4, 7, 2, 3, 9, 4, 1]\n",
    "\n",
    "print(max(lista))"
   ]
  },
  {
   "cell_type": "code",
   "execution_count": 33,
   "id": "cae1fd19-f176-4f71-b757-7af03a83318b",
   "metadata": {},
   "outputs": [
    {
     "name": "stdout",
     "output_type": "stream",
     "text": [
      "3.875\n"
     ]
    }
   ],
   "source": [
    "# Calcular la media de una lista de números\n",
    "\n",
    "lista = [1, 4, 7, 2, 3, 9, 4, 1]\n",
    "media = sum(lista)/len(lista)\n",
    "print(media)"
   ]
  },
  {
   "cell_type": "code",
   "execution_count": 35,
   "id": "c0bc7452-96c6-466f-b093-194be5d4c8e1",
   "metadata": {},
   "outputs": [
    {
     "name": "stdout",
     "output_type": "stream",
     "text": [
      "El equipo rojo es una ###, no valen para nada, saco de ###\n"
     ]
    }
   ],
   "source": [
    "# Crear un filtro de obscenidad\n",
    "\n",
    "texto = \"El equipo rojo es una mierda, no valen para nada, saco de mierda\"\n",
    "palabrota = \"mierda\"\n",
    "texto_limpio = texto.replace(palabrota, \"###\")\n",
    "print(texto_limpio)"
   ]
  },
  {
   "cell_type": "code",
   "execution_count": null,
   "id": "19cba146-7661-491a-9125-bf215bfcd8a4",
   "metadata": {},
   "outputs": [],
   "source": []
  }
 ],
 "metadata": {
  "kernelspec": {
   "display_name": "Python 3 (ipykernel)",
   "language": "python",
   "name": "python3"
  },
  "language_info": {
   "codemirror_mode": {
    "name": "ipython",
    "version": 3
   },
   "file_extension": ".py",
   "mimetype": "text/x-python",
   "name": "python",
   "nbconvert_exporter": "python",
   "pygments_lexer": "ipython3",
   "version": "3.12.1"
  }
 },
 "nbformat": 4,
 "nbformat_minor": 5
}
